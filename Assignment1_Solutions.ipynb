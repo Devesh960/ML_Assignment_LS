{
 "cells": [
  {
   "cell_type": "markdown",
   "id": "9458e8dc",
   "metadata": {},
   "source": [
    "# ML Learners' Space – Assignment 1 Solutions"
   ]
  },
  {
   "cell_type": "markdown",
   "id": "f5d3435f",
   "metadata": {},
   "source": [
    "## Problem 1: NumPy Array Operations"
   ]
  },
  {
   "cell_type": "code",
   "execution_count": 1,
   "id": "db5798ea",
   "metadata": {},
   "outputs": [
    {
     "name": "stdout",
     "output_type": "stream",
     "text": [
      "Array:\n",
      " [[31 44  3 19]\n",
      " [ 1 35  4 24]\n",
      " [16 41 13 16]\n",
      " [18 14 43 48]\n",
      " [44 15 13 26]]\n",
      "Anti-diagonal: [np.int32(19), np.int32(4), np.int32(41), np.int32(18)]\n",
      "Max in each row: [44 35 41 48 44]\n",
      "Elements ≤ mean: [ 3 19  1  4 16 13 16 18 14 15 13]\n",
      "Boundary Traversal: [np.int32(31), np.int32(44), np.int32(3), np.int32(19), np.int32(24), np.int32(16), np.int32(48), np.int32(26), np.int32(13), np.int32(15), np.int32(44), np.int32(18), np.int32(16), np.int32(1)]\n"
     ]
    }
   ],
   "source": [
    "\n",
    "import numpy as np\n",
    "\n",
    "# Generate array\n",
    "array_2d = np.random.randint(1, 51, size=(5, 4))\n",
    "print(\"Array:\\n\", array_2d)\n",
    "\n",
    "# Anti-diagonal\n",
    "anti_diag = [array_2d[i, -1-i] for i in range(min(array_2d.shape))]\n",
    "print(\"Anti-diagonal:\", anti_diag)\n",
    "\n",
    "# Max in each row\n",
    "row_max = np.max(array_2d, axis=1)\n",
    "print(\"Max in each row:\", row_max)\n",
    "\n",
    "# Elements ≤ mean\n",
    "mean_val = np.mean(array_2d)\n",
    "less_than_mean = array_2d[array_2d <= mean_val]\n",
    "print(\"Elements ≤ mean:\", less_than_mean)\n",
    "\n",
    "# Boundary traversal\n",
    "def numpy_boundary_traversal(matrix):\n",
    "    top = list(matrix[0])\n",
    "    right = list(matrix[1:-1, -1])\n",
    "    bottom = list(matrix[-1][::-1])\n",
    "    left = list(matrix[1:-1, 0][::-1])\n",
    "    return top + right + bottom + left\n",
    "\n",
    "print(\"Boundary Traversal:\", numpy_boundary_traversal(array_2d))\n"
   ]
  },
  {
   "cell_type": "markdown",
   "id": "d85bfe1f",
   "metadata": {},
   "source": [
    "## Problem 2: 1D NumPy Array Operations"
   ]
  },
  {
   "cell_type": "code",
   "execution_count": 2,
   "id": "acd36669",
   "metadata": {},
   "outputs": [
    {
     "name": "stdout",
     "output_type": "stream",
     "text": [
      "Array: [9.28 2.63 2.33 7.55 6.66 7.89 5.92 2.71 3.72 4.57 4.92 3.97 2.56 7.48\n",
      " 1.31 9.67 0.41 4.47 5.27 8.78]\n",
      "Min: 0.41\n",
      "Max: 9.67\n",
      "Median: 4.745\n",
      "Modified Array: [ 9.28  6.92  5.43  7.55  6.66  7.89  5.92  7.34 13.84 20.88 24.21 15.76\n",
      "  6.55  7.48  1.72  9.67  0.17 19.98  5.27  8.78]\n",
      "Alternate Sorted: [0.41 9.67 1.31 9.28 2.33 8.78 2.56 7.89 2.63 7.55 2.71 7.48 3.72 6.66\n",
      " 3.97 5.92 4.47 5.27 4.57 4.92]\n"
     ]
    }
   ],
   "source": [
    "\n",
    "# Create 1D array\n",
    "array_1d = np.random.uniform(0, 10, 20)\n",
    "array_1d = np.round(array_1d, 2)\n",
    "print(\"Array:\", array_1d)\n",
    "\n",
    "# Stats\n",
    "print(\"Min:\", np.min(array_1d))\n",
    "print(\"Max:\", np.max(array_1d))\n",
    "print(\"Median:\", np.median(array_1d))\n",
    "\n",
    "# Replace elements < 5 with their squares\n",
    "array_replaced = np.where(array_1d < 5, np.round(array_1d ** 2, 2), array_1d)\n",
    "print(\"Modified Array:\", array_replaced)\n",
    "\n",
    "# Alternate sorting\n",
    "def numpy_alternate_sort(arr):\n",
    "    sorted_arr = np.sort(arr)\n",
    "    result = []\n",
    "    left, right = 0, len(sorted_arr) - 1\n",
    "    while left <= right:\n",
    "        result.append(sorted_arr[left])\n",
    "        if left != right:\n",
    "            result.append(sorted_arr[right])\n",
    "        left += 1\n",
    "        right -= 1\n",
    "    return np.array(result)\n",
    "\n",
    "print(\"Alternate Sorted:\", numpy_alternate_sort(array_1d))\n"
   ]
  },
  {
   "cell_type": "markdown",
   "id": "85fee63c",
   "metadata": {},
   "source": [
    "## Problem 3: Pandas DataFrame Operations"
   ]
  },
  {
   "cell_type": "code",
   "execution_count": 5,
   "id": "4ac89889",
   "metadata": {},
   "outputs": [
    {
     "name": "stdout",
     "output_type": "stream",
     "text": [
      "        Name  Subject  Score Grade\n",
      "0   Student1     Math     61     D\n",
      "1   Student2  Science     71     C\n",
      "2   Student3  English     79     C\n",
      "3   Student4  History     61     D\n",
      "4   Student5      Art     64     D\n",
      "5   Student6     Math     66     D\n",
      "6   Student7  Science     53     F\n",
      "7   Student8  English     97     A\n",
      "8   Student9  History     70     C\n",
      "9  Student10      Art     91     A\n",
      "Sorted by Score:\n",
      "         Name  Subject  Score Grade\n",
      "7   Student8  English     97     A\n",
      "9  Student10      Art     91     A\n",
      "2   Student3  English     79     C\n",
      "1   Student2  Science     71     C\n",
      "8   Student9  History     70     C\n",
      "5   Student6     Math     66     D\n",
      "4   Student5      Art     64     D\n",
      "0   Student1     Math     61     D\n",
      "3   Student4  History     61     D\n",
      "6   Student7  Science     53     F\n",
      "Average Score per Subject:\n",
      " Subject\n",
      "Art        77.5\n",
      "English    88.0\n",
      "History    65.5\n",
      "Math       63.5\n",
      "Science    62.0\n",
      "Name: Score, dtype: float64\n",
      "Filtered A or B:\n",
      "         Name  Subject  Score Grade\n",
      "7   Student8  English     97     A\n",
      "9  Student10      Art     91     A\n"
     ]
    }
   ],
   "source": [
    "\n",
    "import pandas as pd\n",
    "import numpy as np\n",
    "\n",
    "# Generate data\n",
    "names = [f\"Student{i}\" for i in range(1, 11)]\n",
    "subjects = [\"Math\", \"Science\", \"English\", \"History\", \"Art\", \"Math\", \"Science\", \"English\", \"History\", \"Art\"]\n",
    "scores = np.random.randint(50, 101, size=10)\n",
    "\n",
    "# Create DataFrame\n",
    "df = pd.DataFrame({\n",
    "    \"Name\": names,\n",
    "    \"Subject\": subjects,\n",
    "    \"Score\": scores\n",
    "})\n",
    "\n",
    "# Assign grades\n",
    "def assign_grade(score):\n",
    "    if score >= 90:\n",
    "        return \"A\"\n",
    "    elif score >= 80:\n",
    "        return \"B\"\n",
    "    elif score >= 70:\n",
    "        return \"C\"\n",
    "    elif score >= 60:\n",
    "        return \"D\"\n",
    "    else:\n",
    "        return \"F\"\n",
    "\n",
    "df[\"Grade\"] = df[\"Score\"].apply(assign_grade)\n",
    "print(df)\n",
    "\n",
    "\n",
    "# Sorted by score\n",
    "print(\"Sorted by Score:\\n\", df.sort_values(by=\"Score\", ascending=False))\n",
    "\n",
    "# Average score per subject\n",
    "print(\"Average Score per Subject:\\n\", df.groupby(\"Subject\")[\"Score\"].mean())\n",
    "\n",
    "# Filter A or B\n",
    "def pandas_filter_pass(dataframe):\n",
    "    return dataframe[dataframe[\"Grade\"].isin([\"A\", \"B\"])]\n",
    "\n",
    "print(\"Filtered A or B:\\n\", pandas_filter_pass(df))\n"
   ]
  },
  {
   "cell_type": "markdown",
   "id": "92bd62f5",
   "metadata": {},
   "source": [
    "## Problem 4: NLP with Naive Bayes"
   ]
  },
  {
   "cell_type": "code",
   "execution_count": 6,
   "id": "86fb76d3",
   "metadata": {},
   "outputs": [
    {
     "name": "stdout",
     "output_type": "stream",
     "text": [
      "Accuracy: 1.0\n",
      "Prediction Example: negative\n"
     ]
    }
   ],
   "source": [
    "\n",
    "from sklearn.feature_extraction.text import CountVectorizer\n",
    "from sklearn.model_selection import train_test_split\n",
    "from sklearn.naive_bayes import MultinomialNB\n",
    "from sklearn.metrics import accuracy_score\n",
    "\n",
    "# Create synthetic dataset\n",
    "positive_reviews = [\"Great movie!\" for _ in range(50)]\n",
    "negative_reviews = [\"Terrible movie.\" for _ in range(50)]\n",
    "reviews = positive_reviews + negative_reviews\n",
    "sentiments = [\"positive\"] * 50 + [\"negative\"] * 50\n",
    "\n",
    "df_reviews = pd.DataFrame({\"Review\": reviews, \"Sentiment\": sentiments})\n",
    "\n",
    "# Vectorize\n",
    "vectorizer = CountVectorizer(max_features=500, stop_words='english')\n",
    "X = vectorizer.fit_transform(df_reviews[\"Review\"])\n",
    "y = df_reviews[\"Sentiment\"]\n",
    "\n",
    "# Split and train\n",
    "X_train, X_test, y_train, y_test = train_test_split(X, y, test_size=0.2, random_state=42)\n",
    "model_nb = MultinomialNB()\n",
    "model_nb.fit(X_train, y_train)\n",
    "y_pred = model_nb.predict(X_test)\n",
    "print(\"Accuracy:\", accuracy_score(y_test, y_pred))\n",
    "\n",
    "# Prediction function\n",
    "def predict_review_sentiment(model, vectorizer, review):\n",
    "    vec = vectorizer.transform([review])\n",
    "    return model.predict(vec)[0]\n",
    "\n",
    "print(\"Prediction Example:\", predict_review_sentiment(model_nb, vectorizer, \"An amazing experience!\"))\n"
   ]
  },
  {
   "cell_type": "markdown",
   "id": "0482b1f8",
   "metadata": {},
   "source": [
    "## Problem 5: NLP with Logistic Regression"
   ]
  },
  {
   "cell_type": "code",
   "execution_count": 7,
   "id": "766c516c",
   "metadata": {},
   "outputs": [
    {
     "name": "stdout",
     "output_type": "stream",
     "text": [
      "Precision: 1.0\n",
      "Recall: 1.0\n",
      "F1 Score: 1.0\n",
      "Vectorized example:\n",
      " [[0. 0. 0.]]\n"
     ]
    }
   ],
   "source": [
    "\n",
    "from sklearn.feature_extraction.text import TfidfVectorizer\n",
    "from sklearn.linear_model import LogisticRegression\n",
    "from sklearn.metrics import precision_score, recall_score, f1_score\n",
    "\n",
    "# Synthetic dataset\n",
    "feedback = [\"Excellent product!\" for _ in range(50)] + [\"Not good at all.\" for _ in range(50)]\n",
    "labels = [\"good\"] * 50 + [\"bad\"] * 50\n",
    "df_feedback = pd.DataFrame({\"Text\": feedback, \"Label\": labels})\n",
    "\n",
    "# Vectorize\n",
    "tfidf_vectorizer = TfidfVectorizer(max_features=300, lowercase=True, stop_words='english')\n",
    "X = tfidf_vectorizer.fit_transform(df_feedback[\"Text\"])\n",
    "y = df_feedback[\"Label\"]\n",
    "\n",
    "# Split and train\n",
    "X_train, X_test, y_train, y_test = train_test_split(X, y, test_size=0.25, random_state=42)\n",
    "model_lr = LogisticRegression()\n",
    "model_lr.fit(X_train, y_train)\n",
    "y_pred = model_lr.predict(X_test)\n",
    "\n",
    "# Metrics\n",
    "print(\"Precision:\", precision_score(y_test, y_pred, pos_label=\"good\"))\n",
    "print(\"Recall:\", recall_score(y_test, y_pred, pos_label=\"good\"))\n",
    "print(\"F1 Score:\", f1_score(y_test, y_pred, pos_label=\"good\"))\n",
    "\n",
    "# Preprocessing function\n",
    "def text_preprocess_vectorize(texts, vectorizer):\n",
    "    return vectorizer.transform(texts)\n",
    "\n",
    "print(\"Vectorized example:\\n\", text_preprocess_vectorize([\"Amazing service!\"], tfidf_vectorizer).toarray())\n"
   ]
  }
 ],
 "metadata": {
  "kernelspec": {
   "display_name": "myenv",
   "language": "python",
   "name": "python3"
  },
  "language_info": {
   "codemirror_mode": {
    "name": "ipython",
    "version": 3
   },
   "file_extension": ".py",
   "mimetype": "text/x-python",
   "name": "python",
   "nbconvert_exporter": "python",
   "pygments_lexer": "ipython3",
   "version": "3.10.16"
  }
 },
 "nbformat": 4,
 "nbformat_minor": 5
}
