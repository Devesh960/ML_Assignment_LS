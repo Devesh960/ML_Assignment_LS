{
 "cells": [
  {
   "cell_type": "markdown",
   "metadata": {},
   "source": [
    "# Assignment 2: NLP Classification with Word2Vec\n",
    "\n",
    "This notebook contains solutions to:\n",
    "- **Problem 1**: SMS Spam Detection\n",
    "- **Problem 2**: Twitter Sentiment Classification\n",
    "\n",
    "Both use pre-trained Word2Vec embeddings (Google News) and Logistic Regression."
   ]
  },
  {
   "cell_type": "code",
   "execution_count": null,
   "metadata": {},
   "outputs": [],
   "source": [
    "import pandas as pd\n",
    "import numpy as np\n",
    "import nltk\n",
    "import re\n",
    "import string\n",
    "\n",
    "from nltk.corpus import stopwords\n",
    "from nltk.tokenize import word_tokenize\n",
    "from nltk.stem import WordNetLemmatizer\n",
    "from gensim.models import KeyedVectors\n",
    "from sklearn.model_selection import train_test_split\n",
    "from sklearn.linear_model import LogisticRegression\n",
    "from sklearn.metrics import accuracy_score\n",
    "\n",
    "nltk.download('punkt')\n",
    "nltk.download('stopwords')\n",
    "nltk.download('wordnet')\n",
    "nltk.download('omw-1.4')"
   ]
  },
  {
   "cell_type": "markdown",
   "metadata": {},
   "source": [
    "## Problem 1: SMS Spam Classification"
   ]
  },
  {
   "cell_type": "code",
   "execution_count": null,
   "metadata": {},
   "outputs": [],
   "source": [
    "# Load SMS Spam Dataset\n",
    "df = pd.read_csv(\"spam.csv\", encoding='latin-1')[['v1', 'v2']]\n",
    "df.columns = ['Label', 'Message']\n",
    "\n",
    "stop_words = set(stopwords.words('english'))\n",
    "\n",
    "def preprocess(text):\n",
    "    text = text.lower()\n",
    "    tokens = word_tokenize(text)\n",
    "    return [word for word in tokens if word.isalpha() and word not in stop_words]\n",
    "\n",
    "df['tokens'] = df['Message'].apply(preprocess)\n",
    "\n",
    "# Load pre-trained Word2Vec model\n",
    "w2v_model = KeyedVectors.load_word2vec_format(\"GoogleNews-vectors-negative300.bin.gz\", binary=True)\n",
    "\n",
    "def vectorize(tokens):\n",
    "    vectors = [w2v_model[word] for word in tokens if word in w2v_model]\n",
    "    return np.mean(vectors, axis=0) if vectors else np.zeros(300)\n",
    "\n",
    "df['vector'] = df['tokens'].apply(vectorize)\n",
    "\n",
    "X = np.vstack(df['vector'].values)\n",
    "y = df['Label'].map({'ham': 0, 'spam': 1}).values\n",
    "\n",
    "X_train, X_test, y_train, y_test = train_test_split(X, y, test_size=0.2, random_state=42)\n",
    "\n",
    "clf = LogisticRegression(max_iter=1000)\n",
    "clf.fit(X_train, y_train)\n",
    "\n",
    "print(\"Test Accuracy:\", accuracy_score(y_test, clf.predict(X_test)))\n",
    "\n",
    "def predict_message_class(model, w2v_model, message):\n",
    "    tokens = preprocess(message)\n",
    "    vector = vectorize(tokens)\n",
    "    prediction = model.predict([vector])[0]\n",
    "    return 'spam' if prediction == 1 else 'ham'"
   ]
  },
  {
   "cell_type": "markdown",
   "metadata": {},
   "source": [
    "## Problem 2: Twitter US Airline Sentiment Classification"
   ]
  },
  {
   "cell_type": "code",
   "execution_count": null,
   "metadata": {},
   "outputs": [],
   "source": [
    "# Load Twitter dataset\n",
    "tweets_df = pd.read_csv(\"Tweets.csv\")[['airline_sentiment', 'text']]\n",
    "\n",
    "lemmatizer = WordNetLemmatizer()\n",
    "contractions = {\"don't\": \"do not\", \"can't\": \"cannot\", \"i'm\": \"i am\", \"it's\": \"it is\"}\n",
    "\n",
    "def clean_tweet(text):\n",
    "    text = text.lower()\n",
    "    for k, v in contractions.items():\n",
    "        text = text.replace(k, v)\n",
    "    text = re.sub(r\"http\\S+|@\\w+|#\\w+\", \"\", text)\n",
    "    text = text.translate(str.maketrans('', '', string.punctuation))\n",
    "    tokens = word_tokenize(text)\n",
    "    tokens = [lemmatizer.lemmatize(t) for t in tokens if t.isalpha()]\n",
    "    return tokens\n",
    "\n",
    "tweets_df['tokens'] = tweets_df['text'].apply(clean_tweet)\n",
    "tweets_df['vector'] = tweets_df['tokens'].apply(vectorize)\n",
    "\n",
    "X = np.vstack(tweets_df['vector'].values)\n",
    "y = tweets_df['airline_sentiment'].map({'negative': 0, 'neutral': 1, 'positive': 2}).values\n",
    "\n",
    "X_train, X_test, y_train, y_test = train_test_split(X, y, test_size=0.2, random_state=42)\n",
    "\n",
    "clf_sentiment = LogisticRegression(max_iter=1000, multi_class='multinomial')\n",
    "clf_sentiment.fit(X_train, y_train)\n",
    "print(\"Sentiment Test Accuracy:\", accuracy_score(y_test, clf_sentiment.predict(X_test)))\n",
    "\n",
    "def predict_tweet_sentiment(model, w2v_model, tweet):\n",
    "    tokens = clean_tweet(tweet)\n",
    "    vector = vectorize(tokens)\n",
    "    pred = model.predict([vector])[0]\n",
    "    return ['negative', 'neutral', 'positive'][pred]"
   ]
  }
 ],
 "metadata": {
  "kernelspec": {
   "display_name": "myenv",
   "language": "python",
   "name": "python3"
  },
  "language_info": {
   "codemirror_mode": {
    "name": "ipython",
    "version": 3
   },
   "file_extension": ".py",
   "mimetype": "text/x-python",
   "name": "python",
   "nbconvert_exporter": "python",
   "pygments_lexer": "ipython3",
   "version": "3.10.16"
  }
 },
 "nbformat": 4,
 "nbformat_minor": 5
}
